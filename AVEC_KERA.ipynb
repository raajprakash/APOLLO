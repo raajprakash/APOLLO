{
  "nbformat": 4,
  "nbformat_minor": 0,
  "metadata": {
    "colab": {
      "name": "AVEC_KERA.ipynb",
      "version": "0.3.2",
      "provenance": []
    },
    "kernelspec": {
      "name": "python3",
      "display_name": "Python 3"
    }
  },
  "cells": [
    {
      "cell_type": "code",
      "metadata": {
        "id": "OoTbvQTixUbv",
        "colab_type": "code",
        "colab": {}
      },
      "source": [
        "import numpy as np\n",
        "import keras\n",
        "import matplotlib.pyplot as plt\n",
        "from keras.models import Sequential\n",
        "from keras.layers import Dense\n",
        "from keras.optimizers import Adam\n",
        "%matplotlib inline\n",
        "n_pts = 500\n",
        "np.random.seed(0)\n",
        "Xa = np.array([np.random.normal(13, 2, n_pts),\n",
        "               np.random.normal(12, 2, n_pts)]).T\n",
        "Xb = np.array([np.random.normal(8, 2, n_pts),\n",
        "               np.random.normal(6, 2, n_pts)]).T\n",
        " \n",
        "X = np.vstack((Xa, Xb))\n",
        "y = np.matrix(np.append(np.zeros(n_pts), np.ones(n_pts))).T\n",
        " \n",
        "plt.scatter(X[:n_pts,0], X[:n_pts,1])\n",
        "plt.scatter(X[n_pts:,0], X[n_pts:,1])\n",
        "model = Sequential()\n",
        "model.add(Dense(units=1, input_shape=(2,), activation='sigmoid'))\n",
        "adam=Adam(lr = 0.1 )\n",
        "model.compile(adam, loss='binary_crossentropy', metrics=['accuracy'])\n",
        "h=model.fit(x=X, y=y, verbose=1, batch_size=50,epochs=500, shuffle='true')\n",
        "plt.plot(h.history['acc'])\n",
        " \n",
        "plt.legend(['accuracy'])\n",
        "plt.ylabel('accuracy')\n",
        "plt.xlabel('epoch')\n",
        " \n",
        "plt.plot(h.history['loss'])\n",
        "plt.legend(['loss'])\n",
        "plt.title('loss')\n",
        "plt.xlabel('epoch')\n",
        "def plot_decision_boundary(X, y, model):\n",
        "    x_span = np.linspace(min(X[:,0]) - 1, max(X[:,0]) + 1)\n",
        "    y_span = np.linspace(min(X[:,1]) - 1, max(X[:,1]) + 1)\n",
        "    xx, yy = np.meshgrid(x_span, y_span)\n",
        "    xx_, yy_ = xx.ravel(), yy.ravel()\n",
        "    grid = np.c_[xx_, yy_]\n",
        "    pred_func = model.predict(grid)\n",
        "    z = pred_func.reshape(xx.shape)\n",
        "    plt.contourf(xx, yy, z)\n",
        "plot_decision_boundary(X, y, model)\n",
        "plt.scatter(X[:n_pts,0], X[:n_pts,1])\n",
        "plt.scatter(X[n_pts:,0], X[n_pts:,1])\n",
        " \n",
        "plot_decision_boundary(X, y, model)\n",
        "plt.scatter(X[:n_pts,0], X[:n_pts,1])\n",
        "plt.scatter(X[n_pts:,0], X[n_pts:,1])\n",
        "x = 7.5\n",
        "y = 5\n",
        " \n",
        " \n",
        "point = np.array([[x, y]])\n",
        "prediction = model.predict(point)\n",
        "plt.plot([x], [y], marker='o', markersize=10, color=\"red\")\n",
        "print(\"prediction is: \",prediction)\n"
      ],
      "execution_count": 0,
      "outputs": []
    }
  ]
}