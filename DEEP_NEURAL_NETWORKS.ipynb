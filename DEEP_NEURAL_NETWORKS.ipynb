{
  "nbformat": 4,
  "nbformat_minor": 0,
  "metadata": {
    "colab": {
      "name": "DEEP_NEURAL_NETWORKS.ipynb",
      "version": "0.3.2",
      "provenance": [],
      "collapsed_sections": [],
      "include_colab_link": true
    },
    "kernelspec": {
      "name": "python3",
      "display_name": "Python 3"
    }
  },
  "cells": [
    {
      "cell_type": "markdown",
      "metadata": {
        "id": "view-in-github",
        "colab_type": "text"
      },
      "source": [
        "<a href=\"https://colab.research.google.com/github/raajprakash/APOLLO/blob/master/DEEP_NEURAL_NETWORKS.ipynb\" target=\"_parent\"><img src=\"https://colab.research.google.com/assets/colab-badge.svg\" alt=\"Open In Colab\"/></a>"
      ]
    },
    {
      "cell_type": "code",
      "metadata": {
        "id": "acHsJXKKxdzL",
        "colab_type": "code",
        "colab": {}
      },
      "source": [
        "import numpy as np\n",
        "import matplotlib.pyplot as plt\n",
        "from sklearn import datasets\n",
        "import keras\n",
        "from keras.models import Sequential\n",
        "from keras.layers import Dense\n",
        "from keras.optimizers import Adam\n"
      ],
      "execution_count": 0,
      "outputs": []
    },
    {
      "cell_type": "code",
      "metadata": {
        "id": "85rLBGHu_5cf",
        "colab_type": "code",
        "colab": {}
      },
      "source": [
        "np.random.seed(0)\n",
        "n_pts = 500\n",
        "X, y = datasets.make_circles(n_samples=n_pts, random_state = 123, noise=0.1, factor=0.2)\n",
        "#print(X) \n",
        "#print(y)\n",
        " "
      ],
      "execution_count": 0,
      "outputs": []
    },
    {
      "cell_type": "code",
      "metadata": {
        "id": "wAUZNkHgCJXE",
        "colab_type": "code",
        "outputId": "7135f6a9-c28c-4dfd-cbf3-721c346b9c9a",
        "colab": {
          "base_uri": "https://localhost:8080/",
          "height": 286
        }
      },
      "source": [
        "#Plots of all the above co-ordinates\n",
        "plt.scatter(X[y==0, 0], X[y==0, 1])\n",
        "plt.scatter(X[y==1, 0], X[y==1, 1])"
      ],
      "execution_count": 75,
      "outputs": [
        {
          "output_type": "execute_result",
          "data": {
            "text/plain": [
              "<matplotlib.collections.PathCollection at 0x7fc00f862e48>"
            ]
          },
          "metadata": {
            "tags": []
          },
          "execution_count": 75
        },
        {
          "output_type": "display_data",
          "data": {
            "image/png": "[encoded data removed]",
            "text/plain": [
              "<Figure size 432x288 with 1 Axes>"
            ]
          },
          "metadata": {
            "tags": []
          }
        }
      ]
    },
    {
      "cell_type": "code",
      "metadata": {
        "id": "fb0OQ7NzBrri",
        "colab_type": "code",
        "colab": {}
      },
      "source": [
        "#Creating model\n",
        "model = Sequential()\n",
        "model.add(Dense(4, input_shape=(2,), activation='sigmoid'))\n",
        "model.add(Dense(1, activation='sigmoid'))\n",
        "model.compile(Adam(lr = 0.01), 'binary_crossentropy', metrics=['accuracy'])\n"
      ],
      "execution_count": 0,
      "outputs": []
    },
    {
      "cell_type": "code",
      "metadata": {
        "id": "X0pMnX5mBuNw",
        "colab_type": "code",
        "outputId": "9d5e9694-05e4-4525-8e73-b6f1d363b2cf",
        "colab": {
          "base_uri": "https://localhost:8080/",
          "height": 1000
        }
      },
      "source": [
        "h = model.fit (x=X, y=y, verbose = 1, batch_size= 20, epochs=100, shuffle='true')"
      ],
      "execution_count": 77,
      "outputs": [
        {
          "output_type": "stream",
          "text": [
            "Epoch 1/100\n",
            "500/500 [==============================] - 1s 1ms/step - loss: 0.6964 - acc: 0.5120\n",
            "Epoch 2/100\n",
            "500/500 [==============================] - 0s 63us/step - loss: 0.6938 - acc: 0.6180\n",
            "Epoch 3/100\n",
            "500/500 [==============================] - 0s 65us/step - loss: 0.6926 - acc: 0.5180\n",
            "Epoch 4/100\n",
            "500/500 [==============================] - 0s 61us/step - loss: 0.6916 - acc: 0.6760\n",
            "Epoch 5/100\n",
            "500/500 [==============================] - 0s 63us/step - loss: 0.6905 - acc: 0.6340\n",
            "Epoch 6/100\n",
            "500/500 [==============================] - 0s 69us/step - loss: 0.6890 - acc: 0.3640\n",
            "Epoch 7/100\n",
            "500/500 [==============================] - 0s 71us/step - loss: 0.6866 - acc: 0.6480\n",
            "Epoch 8/100\n",
            "500/500 [==============================] - 0s 67us/step - loss: 0.6839 - acc: 0.6700\n",
            "Epoch 9/100\n",
            "500/500 [==============================] - 0s 65us/step - loss: 0.6798 - acc: 0.7560\n",
            "Epoch 10/100\n",
            "500/500 [==============================] - 0s 65us/step - loss: 0.6736 - acc: 0.7980\n",
            "Epoch 11/100\n",
            "500/500 [==============================] - 0s 63us/step - loss: 0.6662 - acc: 0.8380\n",
            "Epoch 12/100\n",
            "500/500 [==============================] - 0s 68us/step - loss: 0.6550 - acc: 0.8580\n",
            "Epoch 13/100\n",
            "500/500 [==============================] - 0s 76us/step - loss: 0.6425 - acc: 0.8780\n",
            "Epoch 14/100\n",
            "500/500 [==============================] - 0s 66us/step - loss: 0.6274 - acc: 0.8920\n",
            "Epoch 15/100\n",
            "500/500 [==============================] - 0s 62us/step - loss: 0.6082 - acc: 0.8800\n",
            "Epoch 16/100\n",
            "500/500 [==============================] - 0s 71us/step - loss: 0.5888 - acc: 0.8700\n",
            "Epoch 17/100\n",
            "500/500 [==============================] - 0s 67us/step - loss: 0.5682 - acc: 0.8860\n",
            "Epoch 18/100\n",
            "500/500 [==============================] - 0s 65us/step - loss: 0.5448 - acc: 0.8560\n",
            "Epoch 19/100\n",
            "500/500 [==============================] - 0s 66us/step - loss: 0.5226 - acc: 0.8860\n",
            "Epoch 20/100\n",
            "500/500 [==============================] - 0s 64us/step - loss: 0.4982 - acc: 0.8880\n",
            "Epoch 21/100\n",
            "500/500 [==============================] - 0s 74us/step - loss: 0.4757 - acc: 0.8880\n",
            "Epoch 22/100\n",
            "500/500 [==============================] - 0s 67us/step - loss: 0.4529 - acc: 0.8920\n",
            "Epoch 23/100\n",
            "500/500 [==============================] - 0s 68us/step - loss: 0.4306 - acc: 0.8920\n",
            "Epoch 24/100\n",
            "500/500 [==============================] - 0s 75us/step - loss: 0.4098 - acc: 0.9040\n",
            "Epoch 25/100\n",
            "500/500 [==============================] - 0s 76us/step - loss: 0.3904 - acc: 0.9000\n",
            "Epoch 26/100\n",
            "500/500 [==============================] - 0s 67us/step - loss: 0.3706 - acc: 0.9140\n",
            "Epoch 27/100\n",
            "500/500 [==============================] - 0s 70us/step - loss: 0.3521 - acc: 0.9100\n",
            "Epoch 28/100\n",
            "500/500 [==============================] - 0s 72us/step - loss: 0.3350 - acc: 0.9160\n",
            "Epoch 29/100\n",
            "500/500 [==============================] - 0s 74us/step - loss: 0.3181 - acc: 0.9180\n",
            "Epoch 30/100\n",
            "500/500 [==============================] - 0s 71us/step - loss: 0.3026 - acc: 0.9220\n",
            "Epoch 31/100\n",
            "500/500 [==============================] - 0s 64us/step - loss: 0.2876 - acc: 0.9240\n",
            "Epoch 32/100\n",
            "500/500 [==============================] - 0s 66us/step - loss: 0.2738 - acc: 0.9320\n",
            "Epoch 33/100\n",
            "500/500 [==============================] - 0s 67us/step - loss: 0.2609 - acc: 0.9400\n",
            "Epoch 34/100\n",
            "500/500 [==============================] - 0s 77us/step - loss: 0.2489 - acc: 0.9460\n",
            "Epoch 35/100\n",
            "500/500 [==============================] - 0s 65us/step - loss: 0.2372 - acc: 0.9660\n",
            "Epoch 36/100\n",
            "500/500 [==============================] - 0s 68us/step - loss: 0.2260 - acc: 0.9820\n",
            "Epoch 37/100\n",
            "500/500 [==============================] - 0s 66us/step - loss: 0.2161 - acc: 0.9860\n",
            "Epoch 38/100\n",
            "500/500 [==============================] - 0s 69us/step - loss: 0.2061 - acc: 0.9860\n",
            "Epoch 39/100\n",
            "500/500 [==============================] - 0s 74us/step - loss: 0.1967 - acc: 0.9900\n",
            "Epoch 40/100\n",
            "500/500 [==============================] - 0s 77us/step - loss: 0.1876 - acc: 0.9940\n",
            "Epoch 41/100\n",
            "500/500 [==============================] - 0s 69us/step - loss: 0.1793 - acc: 0.9940\n",
            "Epoch 42/100\n",
            "500/500 [==============================] - 0s 67us/step - loss: 0.1713 - acc: 0.9940\n",
            "Epoch 43/100\n",
            "500/500 [==============================] - 0s 67us/step - loss: 0.1636 - acc: 0.9960\n",
            "Epoch 44/100\n",
            "500/500 [==============================] - 0s 68us/step - loss: 0.1562 - acc: 0.9960\n",
            "Epoch 45/100\n",
            "500/500 [==============================] - 0s 71us/step - loss: 0.1493 - acc: 0.9960\n",
            "Epoch 46/100\n",
            "500/500 [==============================] - 0s 72us/step - loss: 0.1421 - acc: 0.9960\n",
            "Epoch 47/100\n",
            "500/500 [==============================] - 0s 68us/step - loss: 0.1352 - acc: 0.9960\n",
            "Epoch 48/100\n",
            "500/500 [==============================] - 0s 68us/step - loss: 0.1283 - acc: 0.9960\n",
            "Epoch 49/100\n",
            "500/500 [==============================] - 0s 71us/step - loss: 0.1212 - acc: 0.9960\n",
            "Epoch 50/100\n",
            "500/500 [==============================] - 0s 73us/step - loss: 0.1147 - acc: 0.9960\n",
            "Epoch 51/100\n",
            "500/500 [==============================] - 0s 68us/step - loss: 0.1081 - acc: 0.9960\n",
            "Epoch 52/100\n",
            "500/500 [==============================] - 0s 66us/step - loss: 0.1021 - acc: 0.9960\n",
            "Epoch 53/100\n",
            "500/500 [==============================] - 0s 71us/step - loss: 0.0966 - acc: 0.9960\n",
            "Epoch 54/100\n",
            "500/500 [==============================] - 0s 71us/step - loss: 0.0914 - acc: 0.9960\n",
            "Epoch 55/100\n",
            "500/500 [==============================] - 0s 68us/step - loss: 0.0867 - acc: 0.9960\n",
            "Epoch 56/100\n",
            "500/500 [==============================] - 0s 61us/step - loss: 0.0824 - acc: 0.9960\n",
            "Epoch 57/100\n",
            "500/500 [==============================] - 0s 64us/step - loss: 0.0784 - acc: 0.9980\n",
            "Epoch 58/100\n",
            "500/500 [==============================] - 0s 69us/step - loss: 0.0747 - acc: 0.9980\n",
            "Epoch 59/100\n",
            "500/500 [==============================] - 0s 65us/step - loss: 0.0714 - acc: 0.9980\n",
            "Epoch 60/100\n",
            "500/500 [==============================] - 0s 62us/step - loss: 0.0683 - acc: 0.9980\n",
            "Epoch 61/100\n",
            "500/500 [==============================] - 0s 65us/step - loss: 0.0654 - acc: 0.9980\n",
            "Epoch 62/100\n",
            "500/500 [==============================] - 0s 65us/step - loss: 0.0627 - acc: 0.9980\n",
            "Epoch 63/100\n",
            "500/500 [==============================] - 0s 68us/step - loss: 0.0603 - acc: 0.9980\n",
            "Epoch 64/100\n",
            "500/500 [==============================] - 0s 77us/step - loss: 0.0579 - acc: 0.9980\n",
            "Epoch 65/100\n",
            "500/500 [==============================] - 0s 65us/step - loss: 0.0558 - acc: 0.9980\n",
            "Epoch 66/100\n",
            "500/500 [==============================] - 0s 63us/step - loss: 0.0538 - acc: 0.9980\n",
            "Epoch 67/100\n",
            "500/500 [==============================] - 0s 68us/step - loss: 0.0519 - acc: 0.9980\n",
            "Epoch 68/100\n",
            "500/500 [==============================] - 0s 67us/step - loss: 0.0500 - acc: 0.9980\n",
            "Epoch 69/100\n",
            "500/500 [==============================] - 0s 75us/step - loss: 0.0484 - acc: 0.9980\n",
            "Epoch 70/100\n",
            "500/500 [==============================] - 0s 64us/step - loss: 0.0468 - acc: 0.9980\n",
            "Epoch 71/100\n",
            "500/500 [==============================] - 0s 66us/step - loss: 0.0453 - acc: 0.9980\n",
            "Epoch 72/100\n",
            "500/500 [==============================] - 0s 66us/step - loss: 0.0439 - acc: 0.9980\n",
            "Epoch 73/100\n",
            "500/500 [==============================] - 0s 65us/step - loss: 0.0426 - acc: 0.9980\n",
            "Epoch 74/100\n",
            "500/500 [==============================] - 0s 68us/step - loss: 0.0412 - acc: 0.9980\n",
            "Epoch 75/100\n",
            "500/500 [==============================] - 0s 68us/step - loss: 0.0400 - acc: 0.9980\n",
            "Epoch 76/100\n",
            "500/500 [==============================] - 0s 65us/step - loss: 0.0389 - acc: 0.9980\n",
            "Epoch 77/100\n",
            "500/500 [==============================] - 0s 74us/step - loss: 0.0378 - acc: 0.9980\n",
            "Epoch 78/100\n",
            "500/500 [==============================] - 0s 70us/step - loss: 0.0367 - acc: 0.9980\n",
            "Epoch 79/100\n",
            "500/500 [==============================] - 0s 64us/step - loss: 0.0357 - acc: 0.9980\n",
            "Epoch 80/100\n",
            "500/500 [==============================] - 0s 68us/step - loss: 0.0348 - acc: 0.9980\n",
            "Epoch 81/100\n",
            "500/500 [==============================] - 0s 68us/step - loss: 0.0340 - acc: 0.9980\n",
            "Epoch 82/100\n",
            "500/500 [==============================] - 0s 63us/step - loss: 0.0330 - acc: 0.9980\n",
            "Epoch 83/100\n",
            "500/500 [==============================] - 0s 73us/step - loss: 0.0321 - acc: 0.9980\n",
            "Epoch 84/100\n",
            "500/500 [==============================] - 0s 67us/step - loss: 0.0313 - acc: 0.9980\n",
            "Epoch 85/100\n",
            "500/500 [==============================] - 0s 65us/step - loss: 0.0306 - acc: 0.9980\n",
            "Epoch 86/100\n",
            "500/500 [==============================] - 0s 67us/step - loss: 0.0298 - acc: 1.0000\n",
            "Epoch 87/100\n",
            "500/500 [==============================] - 0s 71us/step - loss: 0.0291 - acc: 1.0000\n",
            "Epoch 88/100\n",
            "500/500 [==============================] - 0s 69us/step - loss: 0.0284 - acc: 1.0000\n",
            "Epoch 89/100\n",
            "500/500 [==============================] - 0s 68us/step - loss: 0.0277 - acc: 1.0000\n",
            "Epoch 90/100\n",
            "500/500 [==============================] - 0s 64us/step - loss: 0.0271 - acc: 1.0000\n",
            "Epoch 91/100\n",
            "500/500 [==============================] - 0s 65us/step - loss: 0.0265 - acc: 1.0000\n",
            "Epoch 92/100\n",
            "500/500 [==============================] - 0s 65us/step - loss: 0.0259 - acc: 0.9980\n",
            "Epoch 93/100\n",
            "500/500 [==============================] - 0s 71us/step - loss: 0.0253 - acc: 1.0000\n",
            "Epoch 94/100\n",
            "500/500 [==============================] - 0s 75us/step - loss: 0.0248 - acc: 1.0000\n",
            "Epoch 95/100\n",
            "500/500 [==============================] - 0s 70us/step - loss: 0.0242 - acc: 1.0000\n",
            "Epoch 96/100\n",
            "500/500 [==============================] - 0s 65us/step - loss: 0.0237 - acc: 1.0000\n",
            "Epoch 97/100\n",
            "500/500 [==============================] - 0s 66us/step - loss: 0.0233 - acc: 1.0000\n",
            "Epoch 98/100\n",
            "500/500 [==============================] - 0s 76us/step - loss: 0.0227 - acc: 1.0000\n",
            "Epoch 99/100\n",
            "500/500 [==============================] - 0s 66us/step - loss: 0.0222 - acc: 1.0000\n",
            "Epoch 100/100\n",
            "500/500 [==============================] - 0s 69us/step - loss: 0.0218 - acc: 1.0000\n"
          ],
          "name": "stdout"
        }
      ]
    },
    {
      "cell_type": "code",
      "metadata": {
        "id": "qkjuiOdnBnsM",
        "colab_type": "code",
        "outputId": "c03f0d73-4d12-469c-a51a-feaaf4ffeded",
        "colab": {
          "base_uri": "https://localhost:8080/",
          "height": 312
        }
      },
      "source": [
        "plt.plot(h.history['acc'])\n",
        "plt.legend(['accuracy'])\n",
        "plt.ylabel('accuracy')\n",
        "plt.xlabel('epoch')\n",
        " \n",
        "plt.plot(h.history['loss'])\n",
        "plt.legend(['loss'])\n",
        "plt.title('loss')\n",
        "plt.xlabel('epoch')"
      ],
      "execution_count": 78,
      "outputs": [
        {
          "output_type": "execute_result",
          "data": {
            "text/plain": [
              "Text(0.5, 0, 'epoch')"
            ]
          },
          "metadata": {
            "tags": []
          },
          "execution_count": 78
        },
        {
          "output_type": "display_data",
          "data": {
            "image/png": "[encoded data removed]",
            "text/plain": [
              "<Figure size 432x288 with 1 Axes>"
            ]
          },
          "metadata": {
            "tags": []
          }
        }
      ]
    },
    {
      "cell_type": "code",
      "metadata": {
        "id": "YFf98s-L_798",
        "colab_type": "code",
        "colab": {}
      },
      "source": [
        "def plot_decision_boundary(X, y, model): \n",
        "    x_span = np.linspace(min(X[:, 0]) - 0.25, max(X[:, 0]) + 0.25, 50) \n",
        "    y_span = np.linspace(min(X[:, 1]) - 0.25, max(X[:, 1]) + 0.25, 50) \n",
        "    xx, yy = np.meshgrid(x_span, y_span) \n",
        "    xx_, yy_ = xx.ravel(), yy.ravel() \n",
        "    \n",
        "    grid = np.c_[xx_, yy_] \n",
        "    pred_func = model.predict(grid) \n",
        "    z = pred_func.reshape(xx.shape) \n",
        "    plt.contourf(xx, yy, z)\n"
      ],
      "execution_count": 0,
      "outputs": []
    },
    {
      "cell_type": "code",
      "metadata": {
        "id": "i3Y_cvSfFQie",
        "colab_type": "code",
        "outputId": "60bf2df1-59b4-4a12-ec7b-3d76aeed3c56",
        "colab": {
          "base_uri": "https://localhost:8080/",
          "height": 286
        }
      },
      "source": [
        "plot_decision_boundary(X, y, model)\n",
        "plt.scatter(X[:n_pts, 0], X[:n_pts, 1])\n",
        "plt.scatter(X[n_pts:, 0], X[n_pts:, 1])"
      ],
      "execution_count": 80,
      "outputs": [
        {
          "output_type": "execute_result",
          "data": {
            "text/plain": [
              "<matplotlib.collections.PathCollection at 0x7fc00f1de358>"
            ]
          },
          "metadata": {
            "tags": []
          },
          "execution_count": 80
        },
        {
          "output_type": "display_data",
          "data": {
            "image/png": "[encoded data removed]",
            "text/plain": [
              "<Figure size 432x288 with 1 Axes>"
            ]
          },
          "metadata": {
            "tags": []
          }
        }
      ]
    },
    {
      "cell_type": "code",
      "metadata": {
        "id": "UEEf3zKIAAsc",
        "colab_type": "code",
        "outputId": "db8a937c-d193-4358-cc97-813f1962dae0",
        "colab": {
          "base_uri": "https://localhost:8080/",
          "height": 286
        }
      },
      "source": [
        "x = 0\n",
        "y = 0.75\n",
        " \n",
        "point = np.array([[x, y]])\n",
        "predict = model.predict(point)\n",
        "plt.plot([x], [y], marker='o', markersize=10, color=\"red\")\n",
        "print(\"Prediction is: \", predict)"
      ],
      "execution_count": 81,
      "outputs": [
        {
          "output_type": "stream",
          "text": [
            "Prediction is:  [[0.02567098]]\n"
          ],
          "name": "stdout"
        },
        {
          "output_type": "display_data",
          "data": {
            "image/png": "[encoded data removed]",
            "text/plain": [
              "<Figure size 432x288 with 1 Axes>"
            ]
          },
          "metadata": {
            "tags": []
          }
        }
      ]
    },
    {
      "cell_type": "code",
      "metadata": {
        "id": "CTzb4izkA9Sa",
        "colab_type": "code",
        "colab": {}
      },
      "source": [
        ""
      ],
      "execution_count": 0,
      "outputs": []
    }
  ]
}