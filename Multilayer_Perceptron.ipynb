{
  "nbformat": 4,
  "nbformat_minor": 0,
  "metadata": {
    "colab": {
      "name": "Multilayer_Perceptron.ipynb",
      "version": "0.3.2",
      "provenance": [],
      "include_colab_link": true
    },
    "kernelspec": {
      "name": "python3",
      "display_name": "Python 3"
    }
  },
  "cells": [
    {
      "cell_type": "markdown",
      "metadata": {
        "id": "view-in-github",
        "colab_type": "text"
      },
      "source": [
        "<a href=\"https://colab.research.google.com/github/raajprakash/APOLLO/blob/master/Multilayer_Perceptron.ipynb\" target=\"_parent\"><img src=\"https://colab.research.google.com/assets/colab-badge.svg\" alt=\"Open In Colab\"/></a>"
      ]
    },
    {
      "cell_type": "code",
      "metadata": {
        "id": "cPag-PlKdrro",
        "colab_type": "code",
        "colab": {}
      },
      "source": [
        "import cv2\n",
        "import numpy as np\n",
        "import glob\n",
        "import sys\n",
        "from sklearn.model_selection import train_test_split"
      ],
      "execution_count": 0,
      "outputs": []
    },
    {
      "cell_type": "code",
      "metadata": {
        "id": "U4HET0ktdxWZ",
        "colab_type": "code",
        "colab": {}
      },
      "source": [
        "#from sklearn.cross_validation import train_test_split\n",
        "print(\"Loading training data...\")\n",
        "e0 = cv2.getTickCount()\n"
      ],
      "execution_count": 0,
      "outputs": []
    },
    {
      "cell_type": "code",
      "metadata": {
        "id": "GddlFWsddxZP",
        "colab_type": "code",
        "colab": {}
      },
      "source": [
        "# load training data\n",
        "image_array = np.zeros((1, 38400))\n",
        "label_array = np.zeros((1, 4), 'float')\n",
        "training_data = glob.glob('training_data/*.npz')"
      ],
      "execution_count": 0,
      "outputs": []
    },
    {
      "cell_type": "code",
      "metadata": {
        "id": "MrnUD1bkdxbU",
        "colab_type": "code",
        "colab": {}
      },
      "source": [
        "# if no data, exit\n",
        "if not training_data:\n",
        "    print(\"No training data in directory, exit\")\n",
        "    sys.exit()"
      ],
      "execution_count": 0,
      "outputs": []
    },
    {
      "cell_type": "code",
      "metadata": {
        "id": "ihytFuzTdxd4",
        "colab_type": "code",
        "colab": {}
      },
      "source": [
        "for single_npz in training_data:\n",
        "    with np.load(single_npz) as data:\n",
        "        train_temp = data['train']\n",
        "        train_labels_temp = data['train_labels']\n",
        "    image_array = np.vstack((image_array, train_temp))\n",
        "    label_array = np.vstack((label_array, train_labels_temp))\n",
        "\n",
        "X = image_array[1:, :]\n",
        "y = label_array[1:, :]\n",
        "print('Image array shape: ', X.shape)\n",
        "print('Label array shape: ', y.shape)\n",
        "\n",
        "e00 = cv2.getTickCount()\n",
        "time0 = (e00 - e0)/ cv2.getTickFrequency()\n",
        "print( 'Loading image duration:', time0)"
      ],
      "execution_count": 0,
      "outputs": []
    },
    {
      "cell_type": "code",
      "metadata": {
        "id": "jx-AdQUsdxgL",
        "colab_type": "code",
        "colab": {}
      },
      "source": [
        "# train test split, 7:3\n",
        "train, test, train_labels, test_labels = train_test_split(X, y, test_size=0.3)\n",
        "\n",
        "# set start time\n",
        "e1 = cv2.getTickCount()"
      ],
      "execution_count": 0,
      "outputs": []
    },
    {
      "cell_type": "code",
      "metadata": {
        "id": "3ba9Kxg6dxjR",
        "colab_type": "code",
        "colab": {}
      },
      "source": [
        "\n",
        "# create MLP\n",
        "layer_sizes = np.int32([38400, 32, 4])\n",
        "model = cv2.ml.ANN_MLP_create()\n",
        "model.setLayerSizes(layer_sizes)\n",
        "criteria = (cv2.TERM_CRITERIA_COUNT | cv2.TERM_CRITERIA_EPS, 500, 0.0001)"
      ],
      "execution_count": 0,
      "outputs": []
    },
    {
      "cell_type": "code",
      "metadata": {
        "id": "Va6Lam1Qdxk6",
        "colab_type": "code",
        "colab": {}
      },
      "source": [
        "#criteria2 = (cv2.TERM_CRITERIA_COUNT, 100, 0.001)\n",
        "params = dict(term_crit = criteria,\n",
        "               train_method = cv2.ml.ANN_MLP_BACKPROP,\n",
        "               bp_dw_scale = 0.001,\n",
        "               bp_moment_scale = 0.0 )\n",
        "\n",
        "print( 'Training MLP ...')\n",
        "#num_iter = model.train(train, train_labels, params)\n",
        "num_iter = model.train(np.float32(train), cv2.ml.ROW_SAMPLE, np.float32(train_labels))\n",
        "# set end time\n",
        "e2 = cv2.getTickCount()\n",
        "time = (e2 - e1)/cv2.getTickFrequency()\n",
        "print( 'Training duration:', time)\n",
        "#print 'Ran for %d iterations' % num_iter"
      ],
      "execution_count": 0,
      "outputs": []
    },
    {
      "cell_type": "code",
      "metadata": {
        "id": "je1Wi_T2dxme",
        "colab_type": "code",
        "colab": {}
      },
      "source": [
        "# train data\n",
        "ret_0, resp_0 = model.predict(train)\n",
        "prediction_0 = resp_0.argmax(-1)\n",
        "true_labels_0 = train_labels.argmax(-1)\n",
        "\n",
        "train_rate = np.mean(prediction_0 == true_labels_0)\n",
        "print('Train accuracy: ', \"{0:.2f}%\".format(train_rate * 100))"
      ],
      "execution_count": 0,
      "outputs": []
    },
    {
      "cell_type": "code",
      "metadata": {
        "id": "vLTTxivkdxpX",
        "colab_type": "code",
        "colab": {}
      },
      "source": [
        "# test data\n",
        "ret_1, resp_1 = model.predict(test)\n",
        "prediction_1 = resp_1.argmax(-1)\n",
        "true_labels_1 = test_labels.argmax(-1)\n",
        "\n",
        "test_rate = np.mean(prediction_1 == true_labels_1)\n",
        "print( 'Test accuracy: ', \"{0:.2f}%\".format(test_rate * 100))"
      ],
      "execution_count": 0,
      "outputs": []
    },
    {
      "cell_type": "code",
      "metadata": {
        "id": "7KeTXWgtdxrG",
        "colab_type": "code",
        "colab": {}
      },
      "source": [
        "\n",
        "# save model\n",
        "model.save('mlp_xml/mlp.xml')"
      ],
      "execution_count": 0,
      "outputs": []
    }
  ]
}