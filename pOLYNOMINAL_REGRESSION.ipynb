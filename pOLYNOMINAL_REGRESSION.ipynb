{
  "nbformat": 4,
  "nbformat_minor": 0,
  "metadata": {
    "colab": {
      "name": "pOLYNOMINAL_REGRESSION.ipynb",
      "version": "0.3.2",
      "provenance": []
    },
    "kernelspec": {
      "name": "python3",
      "display_name": "Python 3"
    }
  },
  "cells": [
    {
      "cell_type": "code",
      "metadata": {
        "id": "njYTix0syUyS",
        "colab_type": "code",
        "colab": {
          "base_uri": "https://localhost:8080/",
          "height": 1000
        },
        "outputId": "5eb6e35a-8e41-4b7a-8e08-85f2acf6a849"
      },
      "source": [
        "import numpy as np\n",
        "import matplotlib.pyplot as plt\n",
        "from keras.models import Sequential\n",
        "from keras.layers import Dense\n",
        "from keras.optimizers import Adam\n",
        "\n",
        "\n",
        "np.random.seed(0)\n",
        "points = 500\n",
        "X = np.linspace(-3, 3, points)\n",
        "y = np.sin(X) + np.random.uniform(-0.5, 0.5, points)\n",
        "model = Sequential()\n",
        "model.add(Dense(50, activation='sigmoid', input_dim=1))\n",
        "model.add(Dense(30, activation='sigmoid'))\n",
        "model.add(Dense(1))\n",
        "\n",
        "\n",
        "adam = Adam(lr=0.01)\n",
        "model.compile(loss='mse', optimizer=adam)\n",
        "model.fit(X, y, epochs=50)\n",
        "predictions = model.predict(X)\n",
        "plt.scatter(X, y)\n",
        "plt.plot(X, predictions, 'ro')\n",
        "plt.show()"
      ],
      "execution_count": 1,
      "outputs": [
        {
          "output_type": "stream",
          "text": [
            "Using TensorFlow backend.\n",
            "WARNING: Logging before flag parsing goes to stderr.\n",
            "W0718 15:53:01.619434 140616320534400 deprecation_wrapper.py:119] From /usr/local/lib/python3.6/dist-packages/keras/backend/tensorflow_backend.py:74: The name tf.get_default_graph is deprecated. Please use tf.compat.v1.get_default_graph instead.\n",
            "\n",
            "W0718 15:53:01.660324 140616320534400 deprecation_wrapper.py:119] From /usr/local/lib/python3.6/dist-packages/keras/backend/tensorflow_backend.py:517: The name tf.placeholder is deprecated. Please use tf.compat.v1.placeholder instead.\n",
            "\n",
            "W0718 15:53:01.669493 140616320534400 deprecation_wrapper.py:119] From /usr/local/lib/python3.6/dist-packages/keras/backend/tensorflow_backend.py:4138: The name tf.random_uniform is deprecated. Please use tf.random.uniform instead.\n",
            "\n",
            "W0718 15:53:01.732769 140616320534400 deprecation_wrapper.py:119] From /usr/local/lib/python3.6/dist-packages/keras/optimizers.py:790: The name tf.train.Optimizer is deprecated. Please use tf.compat.v1.train.Optimizer instead.\n",
            "\n",
            "W0718 15:53:01.889615 140616320534400 deprecation_wrapper.py:119] From /usr/local/lib/python3.6/dist-packages/keras/backend/tensorflow_backend.py:986: The name tf.assign_add is deprecated. Please use tf.compat.v1.assign_add instead.\n",
            "\n",
            "W0718 15:53:01.986778 140616320534400 deprecation_wrapper.py:119] From /usr/local/lib/python3.6/dist-packages/keras/backend/tensorflow_backend.py:973: The name tf.assign is deprecated. Please use tf.compat.v1.assign instead.\n",
            "\n"
          ],
          "name": "stderr"
        },
        {
          "output_type": "stream",
          "text": [
            "Epoch 1/50\n",
            "500/500 [==============================] - 1s 1ms/step - loss: 0.4476\n",
            "Epoch 2/50\n",
            "500/500 [==============================] - 0s 50us/step - loss: 0.2372\n",
            "Epoch 3/50\n",
            "500/500 [==============================] - 0s 52us/step - loss: 0.2667\n",
            "Epoch 4/50\n",
            "500/500 [==============================] - 0s 46us/step - loss: 0.2271\n",
            "Epoch 5/50\n",
            "500/500 [==============================] - 0s 50us/step - loss: 0.2282\n",
            "Epoch 6/50\n",
            "500/500 [==============================] - 0s 50us/step - loss: 0.2262\n",
            "Epoch 7/50\n",
            "500/500 [==============================] - 0s 48us/step - loss: 0.2196\n",
            "Epoch 8/50\n",
            "500/500 [==============================] - 0s 45us/step - loss: 0.2221\n",
            "Epoch 9/50\n",
            "500/500 [==============================] - 0s 46us/step - loss: 0.2068\n",
            "Epoch 10/50\n",
            "500/500 [==============================] - 0s 46us/step - loss: 0.1924\n",
            "Epoch 11/50\n",
            "500/500 [==============================] - 0s 48us/step - loss: 0.1925\n",
            "Epoch 12/50\n",
            "500/500 [==============================] - 0s 53us/step - loss: 0.1794\n",
            "Epoch 13/50\n",
            "500/500 [==============================] - 0s 54us/step - loss: 0.1702\n",
            "Epoch 14/50\n",
            "500/500 [==============================] - 0s 57us/step - loss: 0.1596\n",
            "Epoch 15/50\n",
            "500/500 [==============================] - 0s 49us/step - loss: 0.1572\n",
            "Epoch 16/50\n",
            "500/500 [==============================] - 0s 51us/step - loss: 0.1466\n",
            "Epoch 17/50\n",
            "500/500 [==============================] - 0s 47us/step - loss: 0.1405\n",
            "Epoch 18/50\n",
            "500/500 [==============================] - 0s 51us/step - loss: 0.1327\n",
            "Epoch 19/50\n",
            "500/500 [==============================] - 0s 44us/step - loss: 0.1234\n",
            "Epoch 20/50\n",
            "500/500 [==============================] - 0s 63us/step - loss: 0.1280\n",
            "Epoch 21/50\n",
            "500/500 [==============================] - 0s 50us/step - loss: 0.1186\n",
            "Epoch 22/50\n",
            "500/500 [==============================] - 0s 49us/step - loss: 0.1172\n",
            "Epoch 23/50\n",
            "500/500 [==============================] - 0s 46us/step - loss: 0.1186\n",
            "Epoch 24/50\n",
            "500/500 [==============================] - 0s 48us/step - loss: 0.1177\n",
            "Epoch 25/50\n",
            "500/500 [==============================] - 0s 50us/step - loss: 0.1113\n",
            "Epoch 26/50\n",
            "500/500 [==============================] - 0s 50us/step - loss: 0.1079\n",
            "Epoch 27/50\n",
            "500/500 [==============================] - 0s 52us/step - loss: 0.1110\n",
            "Epoch 28/50\n",
            "500/500 [==============================] - 0s 48us/step - loss: 0.1240\n",
            "Epoch 29/50\n",
            "500/500 [==============================] - 0s 49us/step - loss: 0.1235\n",
            "Epoch 30/50\n",
            "500/500 [==============================] - 0s 43us/step - loss: 0.1126\n",
            "Epoch 31/50\n",
            "500/500 [==============================] - 0s 45us/step - loss: 0.1076\n",
            "Epoch 32/50\n",
            "500/500 [==============================] - 0s 45us/step - loss: 0.1145\n",
            "Epoch 33/50\n",
            "500/500 [==============================] - 0s 51us/step - loss: 0.1079\n",
            "Epoch 34/50\n",
            "500/500 [==============================] - 0s 49us/step - loss: 0.1109\n",
            "Epoch 35/50\n",
            "500/500 [==============================] - 0s 48us/step - loss: 0.1044\n",
            "Epoch 36/50\n",
            "500/500 [==============================] - 0s 58us/step - loss: 0.1087\n",
            "Epoch 37/50\n",
            "500/500 [==============================] - 0s 57us/step - loss: 0.1067\n",
            "Epoch 38/50\n",
            "500/500 [==============================] - 0s 44us/step - loss: 0.1053\n",
            "Epoch 39/50\n",
            "500/500 [==============================] - 0s 46us/step - loss: 0.1049\n",
            "Epoch 40/50\n",
            "500/500 [==============================] - 0s 47us/step - loss: 0.1045\n",
            "Epoch 41/50\n",
            "500/500 [==============================] - 0s 48us/step - loss: 0.1151\n",
            "Epoch 42/50\n",
            "500/500 [==============================] - 0s 48us/step - loss: 0.1029\n",
            "Epoch 43/50\n",
            "500/500 [==============================] - 0s 47us/step - loss: 0.1029\n",
            "Epoch 44/50\n",
            "500/500 [==============================] - 0s 52us/step - loss: 0.1055\n",
            "Epoch 45/50\n",
            "500/500 [==============================] - 0s 48us/step - loss: 0.1018\n",
            "Epoch 46/50\n",
            "500/500 [==============================] - 0s 49us/step - loss: 0.1016\n",
            "Epoch 47/50\n",
            "500/500 [==============================] - 0s 47us/step - loss: 0.1120\n",
            "Epoch 48/50\n",
            "500/500 [==============================] - 0s 44us/step - loss: 0.1085\n",
            "Epoch 49/50\n",
            "500/500 [==============================] - 0s 43us/step - loss: 0.1041\n",
            "Epoch 50/50\n",
            "500/500 [==============================] - 0s 48us/step - loss: 0.1078\n"
          ],
          "name": "stdout"
        },
        {
          "output_type": "display_data",
          "data": {
            "image/png": "[encoded data removed]",
            "text/plain": [
              "<Figure size 432x288 with 1 Axes>"
            ]
          },
          "metadata": {
            "tags": []
          }
        }
      ]
    },
    {
      "cell_type": "code",
      "metadata": {
        "id": "abId02ztyVhI",
        "colab_type": "code",
        "colab": {}
      },
      "source": [
        ""
      ],
      "execution_count": 0,
      "outputs": []
    }
  ]
}